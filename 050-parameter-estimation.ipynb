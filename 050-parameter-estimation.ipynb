{
 "cells": [
  {
   "cell_type": "code",
   "execution_count": 1,
   "metadata": {
    "slideshow": {
     "slide_type": "skip"
    }
   },
   "outputs": [
    {
     "name": "stdout",
     "output_type": "stream",
     "text": [
      "Populating the interactive namespace from numpy and matplotlib\n"
     ]
    }
   ],
   "source": [
    "%pylab inline\n",
    "from scipy import stats\n",
    "from scipy.stats import norm"
   ]
  },
  {
   "cell_type": "markdown",
   "metadata": {
    "slideshow": {
     "slide_type": "slide"
    }
   },
   "source": [
    "# Tiny Review"
   ]
  },
  {
   "cell_type": "markdown",
   "metadata": {
    "slideshow": {
     "slide_type": "slide"
    }
   },
   "source": [
    "## Notation for Classification Problems\n",
    "\n",
    "- $\\omega$: class\n",
    "- $p(\\omega, x)$: joint distribution defining the classification problem\n",
    "- $D=\\{(\\omega_1, x_1),...\\}$: i.i.d. sample from $p$\n",
    "- $\\arg\\max_\\omega P(\\omega | x)$: optimal zero-one loss function classifier\n",
    "- $\\hat{\\theta}$: a maximum likelihood estimate\n"
   ]
  },
  {
   "cell_type": "markdown",
   "metadata": {
    "slideshow": {
     "slide_type": "slide"
    }
   },
   "source": [
    "## Bayes Rule \n",
    "\n",
    "$$ P( \\omega | x ) = \\frac{ p(x | \\omega) P(\\omega) } { p(x) } $$\n",
    "\n",
    "- $P(\\omega | x)$ posterior distribution at input $x$\n",
    "- $p(x | \\omega)$ class conditional density (\"generative model\")\n",
    "- $p(x)$ sample distribution or \"evidence\"\n",
    "- $P(\\omega)$ prior class probabilities\n"
   ]
  },
  {
   "cell_type": "markdown",
   "metadata": {
    "slideshow": {
     "slide_type": "slide"
    }
   },
   "source": [
    "# Maximum Likelihood Estimation\n",
    "\n"
   ]
  },
  {
   "cell_type": "markdown",
   "metadata": {
    "slideshow": {
     "slide_type": "slide"
    }
   },
   "source": [
    "## Neural Networks and Maximum Likelihood Estimation\n",
    "\n",
    "A DNN is ultimate a parameterized function $f_\\theta(x)$, with $\\theta\\in\\mathbb{R}^{1000...}$.\n",
    "\n",
    "We're training the DNN on some random training sample $D$ drawn according to some joint distribution $p(y, x)$, and we try to maximize $\\theta$ so that the model matches the dataset best under some loss function."
   ]
  },
  {
   "cell_type": "markdown",
   "metadata": {
    "slideshow": {
     "slide_type": "slide"
    }
   },
   "source": [
    "## \"One Parameter Generative Network\"\n",
    "\n",
    "Let's drop all the complexity of classification etc. and just focus on parameter estimation. Let's use a one-parameter model:\n",
    "\n",
    "$$p_\\theta(x) = (2\\pi)^{-1/2} e^{-\\frac{(x-\\theta)^2}{2}}$$\n",
    "\n",
    "Our training set $D$ consists of $N$ samples from $p_\\theta(x)$ and we need to find $\\theta$.\n",
    "\n",
    "You might call this a \"one parameter generative network\"."
   ]
  },
  {
   "cell_type": "markdown",
   "metadata": {
    "slideshow": {
     "slide_type": "slide"
    }
   },
   "source": [
    "## Maximum Likelihood Estimate\n",
    "\n",
    "How do we find $\\theta$? You already know a formula for finding $\\theta$:\n",
    "\n",
    "$$ \\hat{\\theta} = \\frac{1}{N} \\sum_{x\\in D} x $$\n",
    "\n",
    "This is the _maximum likelihood estimate_ of $\\theta$.\n",
    "\n",
    "Let's derive this."
   ]
  },
  {
   "cell_type": "markdown",
   "metadata": {
    "slideshow": {
     "slide_type": "slide"
    }
   },
   "source": [
    "## Univariate Normal Density\n",
    "\n",
    "For the univariate normal density, $\\theta = (\\mu,\\sigma)$, but we assume $\\sigma=1$ is known. We write:\n",
    "\n",
    "$$p(x|\\theta) = p_\\theta(x) = (2\\pi)^{-1/2} e^{-\\frac{(x-\\theta)^2}{2}}$$"
   ]
  },
  {
   "cell_type": "markdown",
   "metadata": {
    "slideshow": {
     "slide_type": "slide"
    }
   },
   "source": [
    "## Univariate Normal Density (2)\n",
    "\n",
    "Now we can write a density for the entire dataset:\n",
    "\n",
    "$$ p(D|\\theta) = p(x_1,\\ldots,x_n|\\theta) $$\n",
    "$$ = p(x_1|\\theta)\\cdot\\ldots\\cdot p(x_n|\\theta)$$\n",
    "$$ = \\prod_{i=1}^n p(x_i|\\theta)$$\n",
    "\n",
    "We call this the _likelihood_ of the data.\n",
    "\n",
    "Note that likelihoods are parameterized densities viewed as functions of the parameters."
   ]
  },
  {
   "cell_type": "markdown",
   "metadata": {
    "slideshow": {
     "slide_type": "slide"
    }
   },
   "source": [
    "## Maximum Likelihood Estimate\n",
    "\n",
    "The _maximum likelihood estimate_ is given by:\n",
    "\n",
    "$$\\hat{\\theta} = \\arg\\max_\\theta ~ p(D|\\theta)$$\n",
    "\n",
    "This seems like a reasonable thing to do: choose the parameter that was\n",
    "most likely to produce the data set."
   ]
  },
  {
   "cell_type": "markdown",
   "metadata": {
    "slideshow": {
     "slide_type": "slide"
    }
   },
   "source": [
    "## Maximum Likelihood Instability\n",
    "\n",
    "However, in general, there is little reason why the maximum of the likelihood function\n",
    "should mean anything.\n",
    "\n",
    "For example, we can easily modify the likelihood function to put a tiny spike in it\n",
    "that moves the maximum somewhere arbitrary without actually changing the problem much at all.\n",
    "\n",
    "For bimodal densities, the Maximum Likelihood solution can jump between the two peaks with tiny changes in the data."
   ]
  },
  {
   "cell_type": "markdown",
   "metadata": {
    "slideshow": {
     "slide_type": "slide"
    }
   },
   "source": [
    "## Maximum Likelihood Estimation of the Mean of a Normal Density\n",
    "\n",
    "Let's derive the ML estimator explicitly.\n",
    "\n",
    "We're trying to maximize:\n",
    "\n",
    "$$p(D|\\theta) = \\prod_i (2\\pi)^{-1/2} e^{-\\frac{(x_i-\\theta)^2}{2}}$$\n",
    "\n",
    "Let's take logarithms\n",
    "\n",
    "$$l(\\mu) = \\sum_i \\log p(x_i|\\theta) = \\hbox{const} - {1\\over 2} (x_i-\\theta)\\cdot(x_i-\\theta)$$"
   ]
  },
  {
   "cell_type": "markdown",
   "metadata": {
    "slideshow": {
     "slide_type": "slide"
    }
   },
   "source": [
    "## Maximizing the Likelihood\n",
    "\n",
    "If $l$ is sufficiently well behaved (it is), then a necessary condition for a local maximum is that the gradient in the parameter to be estimated is 0. The gradient is:\n",
    "\n",
    "$$\\nabla_\\theta l(\\theta) = \\nabla_\\theta(\\hbox{const} - {1\\over 2} (x_i-\\theta)\\cdot(x_i-\\theta)) = \\sum_i (x_i-\\theta)$$\n",
    "\n",
    "$$ \\nabla_\\theta l(\\theta)= \\sum_i (x_i-\\theta) = 0 \\Rightarrow \\sum_i x_i = n \\theta $$\n",
    "\n",
    "$$ \\hat{\\theta} = \\frac{1}{n}\\sum x_i $$\n",
    "\n",
    "Therefore: the arithmetic mean is the maximum likelihood estimator for the parameter of the normal density with known variance."
   ]
  },
  {
   "cell_type": "markdown",
   "metadata": {
    "slideshow": {
     "slide_type": "slide"
    }
   },
   "source": [
    "## Connection to Classification\n",
    "\n",
    "Let's say you have a classification problem in which you know that both classes are distributed according to $p_\\theta(x)$ for two different parameters, $\\theta_1$ and $\\theta_2$.\n",
    "\n",
    "Recipe for classification:\n",
    "- compute $\\theta_1$ and $\\theta_2$ from the training samples\n",
    "- apply Bayes formula to derive $P(\\omega | x; \\theta_1, \\theta_2)$ using the parametric densities\n",
    "\n",
    "Other recipe:\n",
    "- write down $P(\\omega | x; \\theta_1, \\theta_2)$\n",
    "- use gradient descent to optimize training set error"
   ]
  },
  {
   "cell_type": "markdown",
   "metadata": {
    "slideshow": {
     "slide_type": "slide"
    }
   },
   "source": [
    "# Bayesian vs Maximum Likelihood\n",
    "\n",
    "Let's say that the $\\theta$ are the parameters of a DNN classifier $P_\\theta(\\omega|x)$. In typical DL, we estimate a single parameter vector $\\hat{\\theta}$ and use that for classification:\n",
    "\n",
    "$$\\hat{\\theta} = \\arg\\max_\\theta p(D | \\theta)$$\n",
    "\n",
    "In Bayesian methods, we average out our classifications over all possible parameter vectors:\n",
    "\n",
    "$$P(\\omega | x) \\propto \\int P_\\theta(\\omega | x) p(\\theta | D) d\\theta$$"
   ]
  },
  {
   "cell_type": "code",
   "execution_count": 2,
   "metadata": {
    "slideshow": {
     "slide_type": "slide"
    }
   },
   "outputs": [],
   "source": [
    "# parameter estimate for nornmal density, unknown mean, sigma=1\n",
    "\n",
    "def p_x_theta(x, theta, sigma=1):\n",
    "    return exp(-(x-theta)**2/(2*sigma**2))/sqrt(2*pi*sigma**2)\n",
    "def p_theta_D(theta, D):\n",
    "    return prod([p_x_theta(x, theta) for x in D], axis=0)\n",
    "\n",
    "D = [0.7, 3.3]"
   ]
  },
  {
   "cell_type": "code",
   "execution_count": 3,
   "metadata": {
    "code_folding": [],
    "slideshow": {
     "slide_type": "slide"
    }
   },
   "outputs": [
    {
     "data": {
      "text/plain": [
       "[<matplotlib.lines.Line2D at 0x7f8e52a97050>]"
      ]
     },
     "execution_count": 3,
     "metadata": {},
     "output_type": "execute_result"
    },
    {
     "data": {
      "image/png": "[encoded data removed]",
      "text/plain": [
       "<matplotlib.figure.Figure at 0x7f8e52a97150>"
      ]
     },
     "metadata": {},
     "output_type": "display_data"
    }
   ],
   "source": [
    "# plot\n",
    "xs = linspace(-2, 6, 1000)\n",
    "thetas = linspace(-1, 5, 100)\n",
    "# p(theta|D)\n",
    "plot(thetas, p_theta_D(thetas, D), color=\"blue\")\n",
    "# arg max p(theta|D)... or mean(D)\n",
    "plot([mean(D)]*2, [0, 0.03], color=\"red\")"
   ]
  },
  {
   "cell_type": "code",
   "execution_count": 4,
   "metadata": {
    "code_folding": [],
    "slideshow": {
     "slide_type": "slide"
    }
   },
   "outputs": [
    {
     "data": {
      "text/plain": [
       "[<matplotlib.lines.Line2D at 0x7f8e52a8dc10>]"
      ]
     },
     "execution_count": 4,
     "metadata": {},
     "output_type": "execute_result"
    },
    {
     "data": {
      "image/png": "[encoded data removed]",
      "text/plain": [
       "<matplotlib.figure.Figure at 0x7f8e52a8dbd0>"
      ]
     },
     "metadata": {},
     "output_type": "display_data"
    }
   ],
   "source": [
    "# p(x|D) using Bayesian vs ML\n",
    "\n",
    "def bayesian_integral(x, D):\n",
    "    thetas = linspace(-5, 10, 1000)\n",
    "    return sum(p_x_theta(x, thetas) * p_theta_D(thetas, D)) / sum(p_theta_D(thetas, D)) \n",
    "\n",
    "ps = [(x, bayesian_integral(x, D)) for x in xs]\n",
    "\n",
    "ps = array(ps); plot(ps[:,0], ps[:,1])\n",
    "plot(xs, p_x_theta(xs, mean(D)), color=\"red\")"
   ]
  },
  {
   "cell_type": "code",
   "execution_count": 5,
   "metadata": {
    "slideshow": {
     "slide_type": "slide"
    }
   },
   "outputs": [
    {
     "data": {
      "text/plain": [
       "[<matplotlib.lines.Line2D at 0x7f8e525c9490>]"
      ]
     },
     "execution_count": 5,
     "metadata": {},
     "output_type": "execute_result"
    },
    {
     "data": {
      "image/png": "[encoded data removed]",
      "text/plain": [
       "<matplotlib.figure.Figure at 0x7f8e526ab050>"
      ]
     },
     "metadata": {},
     "output_type": "display_data"
    }
   ],
   "source": [
    "# overparameterizing the distribution\n",
    "plot(ps[:,0], ps[:,1])\n",
    "plot(xs, p_x_theta(xs, mean(D)), color=\"black\", alpha=0.3)\n",
    "plot(xs, p_x_theta(xs, mean(D), var(D)**.5), color=\"red\")"
   ]
  },
  {
   "cell_type": "markdown",
   "metadata": {
    "slideshow": {
     "slide_type": "slide"
    }
   },
   "source": [
    "## Maximum Likelihood vs Bayesian Estimates\n",
    "\n",
    "The Bayesian estimate $p(x|D)$ usually is quite different from the ML estimate $p(x|\\hat{\\theta}(D))$. It often doesn't even have the same form.\n",
    "\n",
    "ML estimates tend to be \"overtrained\" / underestimate variance. Bayesian estimates can never be \"overtrained\".\n",
    "\n",
    "Using an overparameterization accidentally can compensate for this to some degree (that probably makes DNNs work better)."
   ]
  },
  {
   "cell_type": "markdown",
   "metadata": {
    "slideshow": {
     "slide_type": "slide"
    }
   },
   "source": [
    "# Maximum A-Posteriori Estimate"
   ]
  },
  {
   "cell_type": "markdown",
   "metadata": {
    "slideshow": {
     "slide_type": "slide"
    }
   },
   "source": [
    "## Maximum A Posteriori Estimate\n",
    "\n",
    "By analogy to Bayesian methods, we can also ``multiply in'' a prior:\n",
    "\n",
    "$$\\hat{\\theta} = \\arg\\max_\\theta ~ p(D|\\theta) p(\\theta)$$\n",
    "\n",
    "This is called the _maximum a-posterior estimate_ (MAP) for the parameter $\\theta$."
   ]
  },
  {
   "cell_type": "markdown",
   "metadata": {
    "slideshow": {
     "slide_type": "slide"
    }
   },
   "source": [
    "## MAP vs Bayesian Methods\n",
    "\n",
    "Although MAP looks like the derivation may have involved _Bayes rule_, it is\n",
    "not a Bayesian method at all.\n",
    "Bayesian methods are *not* methods that involve Bayes rule somewhere.\n",
    "\n",
    "**Bayesian methods are methods that result in decisions that minimize expected loss.**\n",
    "\n",
    "**Bayesian methods are NOT methods that happen to use Bayes rule somewhere.**"
   ]
  },
  {
   "cell_type": "markdown",
   "metadata": {
    "slideshow": {
     "slide_type": "slide"
    }
   },
   "source": [
    "# Summary\n",
    "\n",
    "We know how to do classification / estimation optimally and correctly: Bayesian methods.\n",
    "\n",
    "Why aren't we using them with DNNs? Because they are computationally prohibitive.\n",
    "\n",
    "However, several methods attempt to approximate Bayesian solutions:\n",
    "- dropout methods\n",
    "- ensemble methods\n",
    "- some forms of variational methods"
   ]
  },
  {
   "cell_type": "markdown",
   "metadata": {
    "slideshow": {
     "slide_type": "slide"
    }
   },
   "source": [
    "# Uniform Distribution Example"
   ]
  },
  {
   "cell_type": "markdown",
   "metadata": {
    "slideshow": {
     "slide_type": "slide"
    }
   },
   "source": [
    "Bayesian vs Maximum Likelihood Example\n",
    "==============================\n",
    "\n",
    "Let's apply this to another, simple example and compare maximum likelihood and bayesian approaches\n",
    "~\n",
    "Assume that the samples $x$ come from a uniform density over the interval $[0,\\theta]$\n",
    "\n",
    "$$p(x|\\theta) = U(x;0,\\theta) = 1/\\theta \\cdot \\lfloor x\\in[0,\\theta]\\rfloor$$\n",
    "\n",
    "We also assume a prior\n",
    "\n",
    "$$p(\\theta) = U(\\theta;0,10)$$\n",
    "\n",
    "That is, $\\theta$ is distributed uniformly over the interval $[0,10]$\n",
    "\n",
    "Let's assume we see a sequence of training examples $D = \\\\{4,7,2\\\\}$"
   ]
  },
  {
   "cell_type": "code",
   "execution_count": 8,
   "metadata": {
    "slideshow": {
     "slide_type": "slide"
    }
   },
   "outputs": [
    {
     "data": {
      "text/plain": [
       "[<matplotlib.lines.Line2D at 0x7f8e523c5a90>]"
      ]
     },
     "execution_count": 8,
     "metadata": {},
     "output_type": "execute_result"
    },
    {
     "data": {
      "image/png": "[encoded data removed]",
      "text/plain": [
       "<matplotlib.figure.Figure at 0x7f8e524a7710>"
      ]
     },
     "metadata": {},
     "output_type": "display_data"
    }
   ],
   "source": [
    "xs = linspace(-1,11,1000)\n",
    "mus = xs\n",
    "C = (amax(xs)-amin(xs))/len(xs)\n",
    "def pxt(x,mu): return (xs>=0)*(x<=mu)*1.0/maximum(mu,1e-6)\n",
    "plot(xs,pxt(xs,5.5))\n",
    "pmu = (xs>=0)*(xs<=10)*0.1\n",
    "plot(xs,pmu)"
   ]
  },
  {
   "cell_type": "markdown",
   "metadata": {
    "slideshow": {
     "slide_type": "slide"
    }
   },
   "source": [
    "Now assume we draw the sample $x_1=4$.  How should we update our estimate?\n",
    "\n",
    "$$p(\\mu|x) = \\frac{p(x|\\mu) p(\\mu)}{p(x)}$$"
   ]
  },
  {
   "cell_type": "code",
   "execution_count": 9,
   "metadata": {
    "slideshow": {
     "slide_type": "slide"
    }
   },
   "outputs": [
    {
     "data": {
      "text/plain": [
       "[<matplotlib.lines.Line2D at 0x7f8e52238050>]"
      ]
     },
     "execution_count": 9,
     "metadata": {},
     "output_type": "execute_result"
    },
    {
     "data": {
      "image/png": "[encoded data removed]",
      "text/plain": [
       "<matplotlib.figure.Figure at 0x7f8e526376d0>"
      ]
     },
     "metadata": {},
     "output_type": "display_data"
    }
   ],
   "source": [
    "pmu1 = pxt(4,mus)*pmu\n",
    "pmu1 /= C*sum(pmu1)\n",
    "plot(xs,pmu1)"
   ]
  },
  {
   "cell_type": "markdown",
   "metadata": {
    "slideshow": {
     "slide_type": "slide"
    }
   },
   "source": [
    "The maximum likelihood estimate is clearly at $\\mu=4$.  If we now plug this\n",
    "into $p(x|\\mu)$ we get..."
   ]
  },
  {
   "cell_type": "code",
   "execution_count": 10,
   "metadata": {
    "slideshow": {
     "slide_type": "slide"
    }
   },
   "outputs": [
    {
     "data": {
      "text/plain": [
       "[<matplotlib.lines.Line2D at 0x7f8e52269110>]"
      ]
     },
     "execution_count": 10,
     "metadata": {},
     "output_type": "execute_result"
    },
    {
     "data": {
      "image/png": "[encoded data removed]",
      "text/plain": [
       "<matplotlib.figure.Figure at 0x7f8e52396c50>"
      ]
     },
     "metadata": {},
     "output_type": "display_data"
    }
   ],
   "source": [
    "ylim(0,1)\n",
    "plot(xs,pxt(xs,4))"
   ]
  },
  {
   "cell_type": "markdown",
   "metadata": {
    "slideshow": {
     "slide_type": "slide"
    }
   },
   "source": [
    "This is odd because it predicts that only values between 0 and 4 can occur.\n",
    "But the training sample $x_1=4$ only excludes that $\\mu\\lt4$; it doesn't \n",
    "exclude any values greater than $4$.\n",
    "\n",
    "What's the Bayesian estimate?\n",
    "\n",
    "$$p(x|D) = \\int p(x|\\theta) p(\\theta|D) d\\theta \\propto \\int_0^{10} 1/\\theta \\cdot \\lfloor x\\in[0,\\theta]\\rfloor \\cdot 1/\\theta \\cdot \\lfloor \\theta\\in[4,10]\\rfloor d\\theta\n",
    "= \\int_{x_1}^{10} 1/\\theta^2 \\cdot \\lfloor x\\in[0,\\theta]\\rfloor d\\theta$$\n",
    "\n",
    "You can either think about it, or we can simply perform this integral numerically."
   ]
  },
  {
   "cell_type": "code",
   "execution_count": 11,
   "metadata": {
    "slideshow": {
     "slide_type": "slide"
    }
   },
   "outputs": [
    {
     "data": {
      "text/plain": [
       "[<matplotlib.lines.Line2D at 0x7f8e521ffad0>]"
      ]
     },
     "execution_count": 11,
     "metadata": {},
     "output_type": "execute_result"
    },
    {
     "data": {
      "image/png": "[encoded data removed]",
      "text/plain": [
       "<matplotlib.figure.Figure at 0x7f8e52567190>"
      ]
     },
     "metadata": {},
     "output_type": "display_data"
    }
   ],
   "source": [
    "result = zeros(xs.shape)\n",
    "for i,mu in enumerate(mus):\n",
    "    weight = pmu1[i]\n",
    "    result += weight * pxt(xs,mu)\n",
    "result /= C*sum(result)\n",
    "plot(xs,result)\n",
    "plot(xs,pxt(xs,4))"
   ]
  },
  {
   "cell_type": "markdown",
   "metadata": {
    "slideshow": {
     "slide_type": "slide"
    }
   },
   "source": [
    "Now assume we get another sample, $x_1=7$"
   ]
  },
  {
   "cell_type": "code",
   "execution_count": 12,
   "metadata": {
    "slideshow": {
     "slide_type": "slide"
    }
   },
   "outputs": [
    {
     "data": {
      "text/plain": [
       "[<matplotlib.lines.Line2D at 0x7f8e5203de10>]"
      ]
     },
     "execution_count": 12,
     "metadata": {},
     "output_type": "execute_result"
    },
    {
     "data": {
      "image/png": "[encoded data removed]",
      "text/plain": [
       "<matplotlib.figure.Figure at 0x7f8e5221b490>"
      ]
     },
     "metadata": {},
     "output_type": "display_data"
    }
   ],
   "source": [
    "pmu2 = pxt(7,mus)*pmu1\n",
    "pmu2 /= C*sum(pmu2)\n",
    "plot(xs,pmu2)"
   ]
  },
  {
   "cell_type": "code",
   "execution_count": 13,
   "metadata": {
    "slideshow": {
     "slide_type": "slide"
    }
   },
   "outputs": [
    {
     "data": {
      "text/plain": [
       "[<matplotlib.lines.Line2D at 0x7f8e51f87c10>]"
      ]
     },
     "execution_count": 13,
     "metadata": {},
     "output_type": "execute_result"
    },
    {
     "data": {
      "image/png": "[encoded data removed]",
      "text/plain": [
       "<matplotlib.figure.Figure at 0x7f8e5200b810>"
      ]
     },
     "metadata": {},
     "output_type": "display_data"
    }
   ],
   "source": [
    "result = zeros(xs.shape)\n",
    "for i,mu in enumerate(mus):\n",
    "    weight = pmu2[i]\n",
    "    result += weight * pxt(xs,mu)\n",
    "result /= C*sum(result)\n",
    "plot(xs,result)\n",
    "plot(xs,pxt(xs,7))\n",
    "plot(xs,pxt(xs,4))"
   ]
  },
  {
   "cell_type": "markdown",
   "metadata": {
    "slideshow": {
     "slide_type": "slide"
    }
   },
   "source": [
    "This is even weirder.  After seeing the first sample, the maximum likelihood\n",
    "estimator predicts only values between 0 and 4 occurring, but after seeing\n",
    "another training sample, it is changing its mind and now predicts that values\n",
    "between 0 and 7 can occur.\n",
    "\n",
    "The Bayesian estimator, in contrast, \"knows\" that the parameter must be greater than 7,\n",
    "so it predicts a uniform distribution for the interval [0...7] and then a tradeoff\n",
    "between the parameter distribution and the uniform distribution of the parameters."
   ]
  },
  {
   "cell_type": "markdown",
   "metadata": {
    "slideshow": {
     "slide_type": "slide"
    }
   },
   "source": [
    "The last sample illustrates this further.\n",
    "\n",
    "A sample of $x_3=2$ doesn't cause any update to the maximum likelihood estimator,\n",
    "but it does cause an update to posterior distribution."
   ]
  },
  {
   "cell_type": "code",
   "execution_count": 14,
   "metadata": {
    "slideshow": {
     "slide_type": "slide"
    }
   },
   "outputs": [
    {
     "data": {
      "text/plain": [
       "[<matplotlib.lines.Line2D at 0x7f8e520865d0>]"
      ]
     },
     "execution_count": 14,
     "metadata": {},
     "output_type": "execute_result"
    },
    {
     "data": {
      "image/png": "[encoded data removed]",
      "text/plain": [
       "<matplotlib.figure.Figure at 0x7f8e52086690>"
      ]
     },
     "metadata": {},
     "output_type": "display_data"
    }
   ],
   "source": [
    "pmu3 = pxt(2,mus)*pmu2\n",
    "pmu3 /= C*sum(pmu3)\n",
    "plot(xs,pmu3)\n",
    "plot(xs,pmu2)"
   ]
  },
  {
   "cell_type": "code",
   "execution_count": 15,
   "metadata": {
    "slideshow": {
     "slide_type": "slide"
    }
   },
   "outputs": [
    {
     "data": {
      "text/plain": [
       "[<matplotlib.lines.Line2D at 0x7f8e51f54dd0>]"
      ]
     },
     "execution_count": 15,
     "metadata": {},
     "output_type": "execute_result"
    },
    {
     "data": {
      "image/png": "[encoded data removed]",
      "text/plain": [
       "<matplotlib.figure.Figure at 0x7f8e51f54750>"
      ]
     },
     "metadata": {},
     "output_type": "display_data"
    }
   ],
   "source": [
    "result = zeros(xs.shape)\n",
    "total = 0\n",
    "for i,mu in enumerate(mus):\n",
    "    weight = pmu3[i]\n",
    "    result += weight * pxt(xs,mu)\n",
    "    total += weight\n",
    "result /= total\n",
    "plot(xs,result)\n",
    "plot(xs,pxt(xs,7))"
   ]
  },
  {
   "cell_type": "markdown",
   "metadata": {
    "slideshow": {
     "slide_type": "slide"
    }
   },
   "source": [
    "In fact, if we repeat the same process with a lot of samples (in this case\n",
    "the true parameter is 7), we see that the Bayesian parameter estimate\n",
    "becomes an increasingly peaked distribution close to the true value.\n",
    "\n",
    "I.e., if, out of 100 samples, we haven't seen a value greater than 7,\n",
    "then the probability that the mean is significantly greater than 7 must\n",
    "be very small."
   ]
  },
  {
   "cell_type": "code",
   "execution_count": 16,
   "metadata": {
    "slideshow": {
     "slide_type": "slide"
    }
   },
   "outputs": [
    {
     "data": {
      "text/plain": [
       "[<matplotlib.lines.Line2D at 0x7f8e52410550>]"
      ]
     },
     "execution_count": 16,
     "metadata": {},
     "output_type": "execute_result"
    },
    {
     "data": {
      "image/png": "[encoded data removed]",
      "text/plain": [
       "<matplotlib.figure.Figure at 0x7f8e5254d310>"
      ]
     },
     "metadata": {},
     "output_type": "display_data"
    }
   ],
   "source": [
    "p = pmu.copy()\n",
    "for i in range(100):\n",
    "    p = pxt(rand()*7,mus)*p\n",
    "    p /= C*sum(p)\n",
    "plot(mus,p)"
   ]
  },
  {
   "cell_type": "markdown",
   "metadata": {
    "slideshow": {
     "slide_type": "slide"
    }
   },
   "source": [
    "Loss Functions for Parameter Estimation\n",
    "========================================\n",
    "\n",
    "Consider $p(\\theta|x)$ from the previous example again."
   ]
  },
  {
   "cell_type": "code",
   "execution_count": 17,
   "metadata": {
    "slideshow": {
     "slide_type": "slide"
    }
   },
   "outputs": [
    {
     "data": {
      "text/plain": [
       "[<matplotlib.lines.Line2D at 0x7f8e51d46950>]"
      ]
     },
     "execution_count": 17,
     "metadata": {},
     "output_type": "execute_result"
    },
    {
     "data": {
      "image/png": "[encoded data removed]",
      "text/plain": [
       "<matplotlib.figure.Figure at 0x7f8e51e4b110>"
      ]
     },
     "metadata": {},
     "output_type": "display_data"
    }
   ],
   "source": [
    "plot(mus,pmu2)"
   ]
  },
  {
   "cell_type": "markdown",
   "metadata": {
    "slideshow": {
     "slide_type": "slide"
    }
   },
   "source": [
    "Assume now that we are supposed to return a \"best estimate\" of the parameter.\n",
    "\n",
    "By itself, that isn't sufficient.\n",
    "\n",
    "But now assume that we are given a loss function: if our estimate is with in $\\pm 0.5$ of the true value,\n",
    "we don't need to pay a penalty, otherwise, we need to pay a penalty of 1.  What value should we return?\n",
    "\n",
    "The most likely value is 7, but no values less than 7 can occur."
   ]
  },
  {
   "cell_type": "markdown",
   "metadata": {
    "slideshow": {
     "slide_type": "slide"
    }
   },
   "source": [
    "Therefore, it is better to return 7.5.  That way, not only do we have the most likely value, but we also\n",
    "get all the probability mass between 7 and 8 as well and our expected loss is about half of what it would be\n",
    "if we had returned 7."
   ]
  },
  {
   "cell_type": "markdown",
   "metadata": {
    "slideshow": {
     "slide_type": "slide"
    }
   },
   "source": [
    "Now assume we are penalized if we are outside the range $\\pm 1$ from the true value.\n",
    "By the same reasoning, our parameter estimate should now be 8."
   ]
  },
  {
   "cell_type": "markdown",
   "metadata": {
    "slideshow": {
     "slide_type": "slide"
    }
   },
   "source": [
    "As you can see from this simple example, there is not \"best\" answer to the parameter estimation\n",
    "problem; our answer depends on the loss function.\n",
    "\n",
    "But we can see that for any symmetric loss function, the value 7 (the maximum likelihood estimate)\n",
    "is never the optimal answer."
   ]
  },
  {
   "cell_type": "code",
   "execution_count": null,
   "metadata": {},
   "outputs": [],
   "source": []
  }
 ],
 "metadata": {
  "celltoolbar": "Slideshow",
  "kernelspec": {
   "display_name": "Python 2",
   "language": "python",
   "name": "python2"
  },
  "language_info": {
   "codemirror_mode": {
    "name": "ipython",
    "version": 2
   },
   "file_extension": ".py",
   "mimetype": "text/x-python",
   "name": "python",
   "nbconvert_exporter": "python",
   "pygments_lexer": "ipython2",
   "version": "2.7.15"
  }
 },
 "nbformat": 4,
 "nbformat_minor": 1
}
